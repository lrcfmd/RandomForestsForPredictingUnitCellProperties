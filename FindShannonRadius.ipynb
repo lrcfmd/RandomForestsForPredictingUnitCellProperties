{
 "cells": [
  {
   "cell_type": "markdown",
   "id": "basic-magnitude",
   "metadata": {},
   "source": [
    "We use Shannon Radius as a benchmark, this file shows how we get our deffinitions for that\n",
    "\n",
    "As we define negative radius to be radius not found, this will allow us to ignore it later"
   ]
  },
  {
   "cell_type": "code",
   "execution_count": 50,
   "id": "favorite-closer",
   "metadata": {},
   "outputs": [],
   "source": [
    "import pandas as pd\n",
    "from pymatgen.core.periodic_table import Element"
   ]
  },
  {
   "cell_type": "code",
   "execution_count": 51,
   "id": "willing-absorption",
   "metadata": {},
   "outputs": [],
   "source": [
    "#Variables\n",
    "source_file = 'Data/PbFCl/PbFCl.csv'\n",
    "periodic_table = 'Data/Periodic Table of Elements.csv'\n",
    "target_file = 'Data/shannon.csv'"
   ]
  },
  {
   "cell_type": "code",
   "execution_count": 52,
   "id": "velvet-barcelona",
   "metadata": {},
   "outputs": [],
   "source": [
    "#Get list of elements\n",
    "with open(source_file,'r') as f:\n",
    "    els = next(f).split(',')[:-8] # These files have 8 latice parameters in them so we remove them from our list\n",
    "periodic_table_info = pd.read_csv(periodic_table).set_index(\"Symbol\")"
   ]
  },
  {
   "cell_type": "code",
   "execution_count": 53,
   "id": "complimentary-booth",
   "metadata": {},
   "outputs": [],
   "source": [
    "def get_shannon_radius(el):\n",
    "        if el == 'H' or el == 'D':\n",
    "            return -1\n",
    "        el_data = Element(el)._data\n",
    "    \n",
    "        try:\n",
    "            ox_state = str(periodic_table_info.loc[el]['OxidationState'])\n",
    "            radii = el_data['Shannon radii'][ox_state]['VI']\n",
    "        except Exception as e:\n",
    "            print(f'Trouble getting Shannon radius of {el}')\n",
    "            if 'Shannon radii' in el_data:\n",
    "                if ox_state in el_data['Shannon radii']:\n",
    "                    print(f'Invalid coordination state for shannon radius of {el} at oxidation state {ox_state}')\n",
    "                    first_ox_state = list(el_data['Shannon radii'][ox_state].keys())[0]\n",
    "                    ox_state = el_data['Shannon radii'][ox_state][first_ox_state]\n",
    "                    return sum([ox_state[key]['ionic_radius']\n",
    "                                for key in ox_state]) / len(ox_state)\n",
    "                \n",
    "                print(f'Invalid oxidation radius of {el} at oxidation state {ox_state}')\n",
    "                el_data = Element(el)._data['Shannon radii']\n",
    "                if len(el_data) == 0:\n",
    "                    return -1\n",
    "                return sum([sum([el_data[key]['VI'][key2]['ionic_radius']\n",
    "                                 for key2 in el_data[key]['VI']]) / len(el_data[key]['VI'])\n",
    "                            for key in el_data]) / len(el_data)\n",
    "\n",
    "            return -1\n",
    "        if len(radii) == 0:\n",
    "            return -1\n",
    "        return sum([radii[key]['ionic_radius']for key in radii]) / len(radii)"
   ]
  },
  {
   "cell_type": "code",
   "execution_count": 55,
   "id": "sought-china",
   "metadata": {},
   "outputs": [
    {
     "name": "stdout",
     "output_type": "stream",
     "text": [
      "Trouble getting Shannon radius of Ar\n",
      "Trouble getting Shannon radius of Th\n",
      "Invalid oxidation radius of Th at oxidation state 3\n",
      "Trouble getting Shannon radius of N\n",
      "Invalid coordination state for shannon radius of N at oxidation state -3\n",
      "Trouble getting Shannon radius of Kr\n",
      "Trouble getting Shannon radius of Xe\n",
      "Invalid oxidation radius of Xe at oxidation state 3\n",
      "Trouble getting Shannon radius of Es\n",
      "Trouble getting Shannon radius of Tc\n",
      "Invalid oxidation radius of Tc at oxidation state 2\n"
     ]
    }
   ],
   "source": [
    "with open(target_file,'w') as f:\n",
    "    \n",
    "    f.write(','.join(els))\n",
    "    f.write('\\n')\n",
    "    f.write(','.join([str(get_shannon_radius(el)) for el in els]))"
   ]
  },
  {
   "cell_type": "code",
   "execution_count": null,
   "id": "transsexual-license",
   "metadata": {},
   "outputs": [],
   "source": []
  }
 ],
 "metadata": {
  "kernelspec": {
   "display_name": "Python 3",
   "language": "python",
   "name": "python3"
  },
  "language_info": {
   "codemirror_mode": {
    "name": "ipython",
    "version": 3
   },
   "file_extension": ".py",
   "mimetype": "text/x-python",
   "name": "python",
   "nbconvert_exporter": "python",
   "pygments_lexer": "ipython3",
   "version": "3.7.9"
  }
 },
 "nbformat": 4,
 "nbformat_minor": 5
}
